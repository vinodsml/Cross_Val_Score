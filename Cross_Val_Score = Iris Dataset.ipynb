{
 "cells": [
  {
   "cell_type": "code",
   "execution_count": 1,
   "metadata": {},
   "outputs": [],
   "source": [
    "import numpy as np\n",
    "import pandas as pd\n",
    "import matplotlib.pyplot as plt"
   ]
  },
  {
   "cell_type": "code",
   "execution_count": 2,
   "metadata": {},
   "outputs": [
    {
     "data": {
      "text/html": [
       "<div>\n",
       "<style scoped>\n",
       "    .dataframe tbody tr th:only-of-type {\n",
       "        vertical-align: middle;\n",
       "    }\n",
       "\n",
       "    .dataframe tbody tr th {\n",
       "        vertical-align: top;\n",
       "    }\n",
       "\n",
       "    .dataframe thead th {\n",
       "        text-align: right;\n",
       "    }\n",
       "</style>\n",
       "<table border=\"1\" class=\"dataframe\">\n",
       "  <thead>\n",
       "    <tr style=\"text-align: right;\">\n",
       "      <th></th>\n",
       "      <th>sepal_length</th>\n",
       "      <th>sepal_width</th>\n",
       "      <th>petal_length</th>\n",
       "      <th>petal_width</th>\n",
       "      <th>species</th>\n",
       "    </tr>\n",
       "  </thead>\n",
       "  <tbody>\n",
       "    <tr>\n",
       "      <th>0</th>\n",
       "      <td>5.1</td>\n",
       "      <td>3.5</td>\n",
       "      <td>1.4</td>\n",
       "      <td>0.2</td>\n",
       "      <td>setosa</td>\n",
       "    </tr>\n",
       "    <tr>\n",
       "      <th>1</th>\n",
       "      <td>4.9</td>\n",
       "      <td>3.0</td>\n",
       "      <td>1.4</td>\n",
       "      <td>0.2</td>\n",
       "      <td>setosa</td>\n",
       "    </tr>\n",
       "    <tr>\n",
       "      <th>2</th>\n",
       "      <td>4.7</td>\n",
       "      <td>3.2</td>\n",
       "      <td>1.3</td>\n",
       "      <td>0.2</td>\n",
       "      <td>setosa</td>\n",
       "    </tr>\n",
       "    <tr>\n",
       "      <th>3</th>\n",
       "      <td>4.6</td>\n",
       "      <td>3.1</td>\n",
       "      <td>1.5</td>\n",
       "      <td>0.2</td>\n",
       "      <td>setosa</td>\n",
       "    </tr>\n",
       "    <tr>\n",
       "      <th>4</th>\n",
       "      <td>5.0</td>\n",
       "      <td>3.6</td>\n",
       "      <td>1.4</td>\n",
       "      <td>0.2</td>\n",
       "      <td>setosa</td>\n",
       "    </tr>\n",
       "  </tbody>\n",
       "</table>\n",
       "</div>"
      ],
      "text/plain": [
       "   sepal_length  sepal_width  petal_length  petal_width species\n",
       "0           5.1          3.5           1.4          0.2  setosa\n",
       "1           4.9          3.0           1.4          0.2  setosa\n",
       "2           4.7          3.2           1.3          0.2  setosa\n",
       "3           4.6          3.1           1.5          0.2  setosa\n",
       "4           5.0          3.6           1.4          0.2  setosa"
      ]
     },
     "execution_count": 2,
     "metadata": {},
     "output_type": "execute_result"
    }
   ],
   "source": [
    "dataset=pd.read_csv(\"iris dataset.csv\")\n",
    "dataset.head()"
   ]
  },
  {
   "cell_type": "code",
   "execution_count": 3,
   "metadata": {},
   "outputs": [],
   "source": [
    "x=dataset.iloc[0:, 0:4]\n",
    "y=dataset.iloc[0:, 4:]\n",
    "x=x.values\n",
    "y=y.values\n"
   ]
  },
  {
   "cell_type": "code",
   "execution_count": 4,
   "metadata": {},
   "outputs": [
    {
     "name": "stderr",
     "output_type": "stream",
     "text": [
      "/srv/conda/envs/notebook/lib/python3.6/site-packages/sklearn/preprocessing/_label.py:251: DataConversionWarning: A column-vector y was passed when a 1d array was expected. Please change the shape of y to (n_samples, ), for example using ravel().\n",
      "  y = column_or_1d(y, warn=True)\n"
     ]
    }
   ],
   "source": [
    "from sklearn.preprocessing import LabelEncoder\n",
    "\n",
    "label=LabelEncoder()\n",
    "y=label.fit_transform(y)"
   ]
  },
  {
   "cell_type": "code",
   "execution_count": 5,
   "metadata": {},
   "outputs": [
    {
     "data": {
      "text/plain": [
       "array([0, 0, 0, 0, 0, 0, 0, 0, 0, 0, 0, 0, 0, 0, 0, 0, 0, 0, 0, 0, 0, 0,\n",
       "       0, 0, 0, 0, 0, 0, 0, 0, 0, 0, 0, 0, 0, 0, 0, 0, 0, 0, 0, 0, 0, 0,\n",
       "       0, 0, 0, 0, 0, 0, 1, 1, 1, 1, 1, 1, 1, 1, 1, 1, 1, 1, 1, 1, 1, 1,\n",
       "       1, 1, 1, 1, 1, 1, 1, 1, 1, 1, 1, 1, 1, 1, 1, 1, 1, 1, 1, 1, 1, 1,\n",
       "       1, 1, 1, 1, 1, 1, 1, 1, 1, 1, 1, 1, 2, 2, 2, 2, 2, 2, 2, 2, 2, 2,\n",
       "       2, 2, 2, 2, 2, 2, 2, 2, 2, 2, 2, 2, 2, 2, 2, 2, 2, 2, 2, 2, 2, 2,\n",
       "       2, 2, 2, 2, 2, 2, 2, 2, 2, 2, 2, 2, 2, 2, 2, 2, 2, 2])"
      ]
     },
     "execution_count": 5,
     "metadata": {},
     "output_type": "execute_result"
    }
   ],
   "source": [
    "y"
   ]
  },
  {
   "cell_type": "code",
   "execution_count": 6,
   "metadata": {},
   "outputs": [],
   "source": [
    "from sklearn.model_selection import train_test_split\n",
    "x_train,x_test,y_train,y_test=train_test_split(x,y, train_size=0.8)"
   ]
  },
  {
   "cell_type": "code",
   "execution_count": 7,
   "metadata": {},
   "outputs": [
    {
     "name": "stderr",
     "output_type": "stream",
     "text": [
      "/srv/conda/envs/notebook/lib/python3.6/site-packages/sklearn/linear_model/_logistic.py:940: ConvergenceWarning: lbfgs failed to converge (status=1):\n",
      "STOP: TOTAL NO. of ITERATIONS REACHED LIMIT.\n",
      "\n",
      "Increase the number of iterations (max_iter) or scale the data as shown in:\n",
      "    https://scikit-learn.org/stable/modules/preprocessing.html\n",
      "Please also refer to the documentation for alternative solver options:\n",
      "    https://scikit-learn.org/stable/modules/linear_model.html#logistic-regression\n",
      "  extra_warning_msg=_LOGISTIC_SOLVER_CONVERGENCE_MSG)\n"
     ]
    }
   ],
   "source": [
    "from sklearn.linear_model import LogisticRegression\n",
    "log=LogisticRegression()\n",
    "modellog=log.fit(x_train, y_train)\n",
    "rlog=modellog.score(x_train,y_train)"
   ]
  },
  {
   "cell_type": "code",
   "execution_count": 8,
   "metadata": {},
   "outputs": [],
   "source": [
    "from sklearn.tree import DecisionTreeClassifier\n",
    "dt=DecisionTreeClassifier(criterion='entropy', random_state=0)\n",
    "modeldt=dt.fit(x_train,y_train)\n",
    "rdt=modeldt.score(x_train,y_train)"
   ]
  },
  {
   "cell_type": "code",
   "execution_count": 9,
   "metadata": {},
   "outputs": [],
   "source": [
    "from sklearn.ensemble import RandomForestClassifier\n",
    "rf=RandomForestClassifier(n_estimators=10, criterion='entropy', random_state=0)\n",
    "modelrf=rf.fit(x_train, y_train)\n",
    "rrf=modelrf.score(x_train, y_train)"
   ]
  },
  {
   "cell_type": "code",
   "execution_count": 10,
   "metadata": {},
   "outputs": [],
   "source": [
    "from sklearn.svm import SVC\n",
    "svc=SVC()\n",
    "modelsvc=svc.fit(x_train, y_train)\n",
    "rsvc=modelsvc.score(x_train, y_train)"
   ]
  },
  {
   "cell_type": "code",
   "execution_count": 11,
   "metadata": {},
   "outputs": [],
   "source": [
    "from sklearn.naive_bayes import GaussianNB\n",
    "nb=GaussianNB()\n",
    "modelnb=nb.fit(x_train, y_train)\n",
    "rnb=modelnb.score(x_train, y_train)"
   ]
  },
  {
   "cell_type": "code",
   "execution_count": 12,
   "metadata": {},
   "outputs": [],
   "source": [
    "from sklearn.neighbors import KNeighborsClassifier\n",
    "knn=KNeighborsClassifier(n_neighbors=3, metric='euclidean')\n",
    "modelknn=knn.fit(x_train, y_train)\n",
    "rknn=modelknn.score(x_train, y_train)"
   ]
  },
  {
   "cell_type": "code",
   "execution_count": 13,
   "metadata": {},
   "outputs": [
    {
     "name": "stdout",
     "output_type": "stream",
     "text": [
      "rscore of Logistic_regression is =  0.9916666666666667\n",
      "\n",
      "rscore of decision_tree is =  1.0\n",
      "\n",
      "rscore of Random_Forest is =  1.0\n",
      "\n",
      "rscore of SVC is =  0.975\n",
      "\n",
      "rscore of Naive_Bayes is =  0.95\n",
      "\n",
      "rscore of KNN is =  0.9583333333333334\n",
      "\n"
     ]
    }
   ],
   "source": [
    "print('rscore of Logistic_regression is = ', rlog)\n",
    "print()\n",
    "print('rscore of decision_tree is = ', rdt)\n",
    "print()\n",
    "print('rscore of Random_Forest is = ', rrf)\n",
    "print()\n",
    "print('rscore of SVC is = ', rsvc)\n",
    "print()\n",
    "print('rscore of Naive_Bayes is = ', rnb)\n",
    "print()\n",
    "print('rscore of KNN is = ', rknn)\n",
    "print()"
   ]
  },
  {
   "cell_type": "markdown",
   "metadata": {},
   "source": [
    "# finding Cross_Val_Score for all models to check which model works well for this particular dataset"
   ]
  },
  {
   "cell_type": "code",
   "execution_count": 14,
   "metadata": {},
   "outputs": [
    {
     "name": "stdout",
     "output_type": "stream",
     "text": [
      "cross_val_score of Logistic_regression is =  \n",
      " [1.         0.93333333 1.         1.         0.93333333 0.93333333\n",
      " 0.93333333 1.         1.         1.        ]\n",
      "\n",
      "cross_val_score of Decision_Tree is =  \n",
      " [1.         0.93333333 1.         0.93333333 0.93333333 0.86666667\n",
      " 0.93333333 1.         1.         1.        ]\n",
      "\n",
      "cross_val_score of Random_forest is =  \n",
      " [1.         0.93333333 1.         0.93333333 0.93333333 0.93333333\n",
      " 0.93333333 0.93333333 1.         1.        ]\n",
      "\n",
      "cross_val_score of Support_Vector is =  \n",
      " [1.         0.93333333 1.         1.         1.         0.93333333\n",
      " 0.93333333 0.93333333 1.         1.        ]\n",
      "\n",
      "cross_val_score of Naive_Bayes is =  \n",
      " [0.93333333 0.93333333 1.         0.93333333 0.93333333 0.93333333\n",
      " 0.86666667 1.         1.         1.        ]\n",
      "\n",
      "cross_val_score of KNN is =  \n",
      " [1.         0.93333333 1.         0.93333333 0.86666667 1.\n",
      " 0.93333333 1.         1.         1.        ]\n",
      "\n"
     ]
    }
   ],
   "source": [
    "import warnings\n",
    "warnings.filterwarnings('ignore')\n",
    "\n",
    "from sklearn.model_selection import cross_val_score\n",
    "\n",
    "print(\"cross_val_score of Logistic_regression is = \", '\\n', cross_val_score(modellog, x,y, cv=10, scoring='accuracy'))\n",
    "print()\n",
    "print(\"cross_val_score of Decision_Tree is = \", '\\n', cross_val_score(modeldt, x,y, cv=10, scoring='accuracy'))\n",
    "print()\n",
    "print(\"cross_val_score of Random_forest is = \", '\\n', cross_val_score(modelrf, x,y, cv=10, scoring='accuracy'))\n",
    "print()\n",
    "print(\"cross_val_score of Support_Vector is = \", '\\n', cross_val_score(modelsvc, x,y, cv=10, scoring='accuracy'))\n",
    "print()\n",
    "print(\"cross_val_score of Naive_Bayes is = \", '\\n', cross_val_score(modelnb, x,y, cv=10, scoring='accuracy'))\n",
    "print()\n",
    "print(\"cross_val_score of KNN is = \", '\\n', cross_val_score(modelknn, x,y, cv=10, scoring='accuracy'))\n",
    "print()\n"
   ]
  },
  {
   "cell_type": "markdown",
   "metadata": {},
   "source": [
    "# Finding mean value for the above cross_val_score to check which model works fine for this particular dataset (IRIS Dataset)"
   ]
  },
  {
   "cell_type": "code",
   "execution_count": 15,
   "metadata": {},
   "outputs": [
    {
     "name": "stdout",
     "output_type": "stream",
     "text": [
      "mean value of cross_val_score of Logistic_regression is =  0.9733333333333334\n",
      "\n",
      "mena value of cross_val_score of Decision_Tree is =  0.96\n",
      "\n",
      "mean value of cross_val_score of Random_forest is =  0.96\n",
      "\n",
      "mean value of cross_val_score of Support_Vector is =  0.9733333333333334\n",
      "\n",
      "mean value of cross_val_score of Naive_Bayes is =  0.9533333333333334\n",
      "\n",
      "mean value of cross_val_score of KNN is =  0.9666666666666666\n",
      "\n"
     ]
    }
   ],
   "source": [
    "\n",
    "print(\"mean value of cross_val_score of Logistic_regression is = \", cross_val_score(modellog, x,y, cv=10, scoring='accuracy').mean())\n",
    "print()\n",
    "print(\"mena value of cross_val_score of Decision_Tree is = \", cross_val_score(modeldt, x,y, cv=10, scoring='accuracy').mean())\n",
    "print()\n",
    "print(\"mean value of cross_val_score of Random_forest is = \", cross_val_score(modelrf, x,y, cv=10, scoring='accuracy').mean())\n",
    "print()\n",
    "print(\"mean value of cross_val_score of Support_Vector is = \", cross_val_score(modelsvc, x,y, cv=10, scoring='accuracy').mean())\n",
    "print()\n",
    "print(\"mean value of cross_val_score of Naive_Bayes is = \", cross_val_score(modelnb, x,y, cv=10, scoring='accuracy').mean())\n",
    "print()\n",
    "print(\"mean value of cross_val_score of KNN is = \", cross_val_score(modelknn, x,y, cv=10, scoring='accuracy').mean())\n",
    "print()"
   ]
  },
  {
   "cell_type": "markdown",
   "metadata": {},
   "source": [
    "## from the above it is evident that \"Logistic Regression\" model works well for this dataset, as the \"mean cross_val_score\"  of \"logistic regression\" is high (0.9733) after splitting the dataset in to 10 partions for training and testing randomly."
   ]
  }
 ],
 "metadata": {
  "kernelspec": {
   "display_name": "Python 3",
   "language": "python",
   "name": "python3"
  },
  "language_info": {
   "codemirror_mode": {
    "name": "ipython",
    "version": 3
   },
   "file_extension": ".py",
   "mimetype": "text/x-python",
   "name": "python",
   "nbconvert_exporter": "python",
   "pygments_lexer": "ipython3",
   "version": "3.6.7"
  }
 },
 "nbformat": 4,
 "nbformat_minor": 4
}
